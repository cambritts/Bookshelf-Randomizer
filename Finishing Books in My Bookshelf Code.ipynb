{
 "cells": [
  {
   "cell_type": "code",
   "execution_count": 2,
   "id": "6e802b82",
   "metadata": {},
   "outputs": [
    {
     "name": "stdout",
     "output_type": "stream",
     "text": [
      "Little Women\n"
     ]
    }
   ],
   "source": [
    "import random\n",
    "\n",
    "books = ['The Forgotten Garden', \"If on a Winter's Night a Traveller\", 'The Distant Hours', 'Three Cups of Tea', 'Tender is the Night', 'Carrie', 'The Uninhabitable Earth', 'King of Scars', 'Moonwalking with Einstein', 'The Circle', 'A Year in Provence', 'The Secret Book of Flora Lea', 'Made to Stick', 'Persuasion', 'The Secret Keeper', 'The Overstory', 'For Whom the Bell Tolls', 'Emma', 'Great Expectations', 'Mansfield Park', 'Mindfulness in Plain English', 'The Three-Body Problem', 'Predictably Irrational', 'One Hundred Years of Solitude', 'The Nightingale', 'Just for the Summer', 'The Book of Lost Friends', 'Into Thin Air', 'Genuine Happiness: Meditation as the Path to Fulfillness']\n",
    "\n",
    "random_book = random.choice(books)\n",
    "\n",
    "print(random_book)"
   ]
  }
 ],
 "metadata": {
  "kernelspec": {
   "display_name": "Python 3 (ipykernel)",
   "language": "python",
   "name": "python3"
  },
  "language_info": {
   "codemirror_mode": {
    "name": "ipython",
    "version": 3
   },
   "file_extension": ".py",
   "mimetype": "text/x-python",
   "name": "python",
   "nbconvert_exporter": "python",
   "pygments_lexer": "ipython3",
   "version": "3.11.7"
  }
 },
 "nbformat": 4,
 "nbformat_minor": 5
}
